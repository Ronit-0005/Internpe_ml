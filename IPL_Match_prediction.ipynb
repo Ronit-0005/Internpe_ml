{
  "cells": [
    {
      "cell_type": "markdown",
      "metadata": {
        "id": "view-in-github",
        "colab_type": "text"
      },
      "source": [
        "<a href=\"https://colab.research.google.com/github/Ronit-0005/Internpe_ml/blob/main/IPL_Match_prediction.ipynb\" target=\"_parent\"><img src=\"https://colab.research.google.com/assets/colab-badge.svg\" alt=\"Open In Colab\"/></a>"
      ]
    },
    {
      "cell_type": "code",
      "execution_count": 39,
      "id": "fedf198c-fd91-468a-af2b-2c4fc1c6ea6b",
      "metadata": {
        "id": "fedf198c-fd91-468a-af2b-2c4fc1c6ea6b"
      },
      "outputs": [],
      "source": [
        "import pandas as pd\n",
        "import numpy as np\n",
        "from sklearn.model_selection import train_test_split\n",
        "from sklearn.preprocessing import OneHotEncoder\n",
        "from sklearn.compose import ColumnTransformer\n",
        "from sklearn.pipeline import Pipeline\n",
        "from sklearn.linear_model import LinearRegression, Ridge\n",
        "from sklearn.ensemble import RandomForestRegressor\n",
        "from sklearn.metrics import mean_absolute_error, r2_score"
      ]
    },
    {
      "cell_type": "code",
      "execution_count": 40,
      "id": "444279bd-6156-4968-b1ed-9dfccc064009",
      "metadata": {
        "id": "444279bd-6156-4968-b1ed-9dfccc064009"
      },
      "outputs": [],
      "source": [
        "df = pd.read_csv('ipl_colab.csv')\n"
      ]
    },
    {
      "cell_type": "code",
      "execution_count": 41,
      "id": "7ca9d12c-4be4-4cdf-ad64-7053aa55642e",
      "metadata": {
        "colab": {
          "base_uri": "https://localhost:8080/",
          "height": 310
        },
        "id": "7ca9d12c-4be4-4cdf-ad64-7053aa55642e",
        "outputId": "b1244e60-2f21-4b11-a144-1ab66abcb092"
      },
      "outputs": [
        {
          "output_type": "execute_result",
          "data": {
            "text/plain": [
              "   mid        date                  venue           batting_team  \\\n",
              "0    1  2008-04-18  M Chinnaswamy Stadium  Kolkata Knight Riders   \n",
              "1    1  2008-04-18  M Chinnaswamy Stadium  Kolkata Knight Riders   \n",
              "2    1  2008-04-18  M Chinnaswamy Stadium  Kolkata Knight Riders   \n",
              "3    1  2008-04-18  M Chinnaswamy Stadium  Kolkata Knight Riders   \n",
              "4    1  2008-04-18  M Chinnaswamy Stadium  Kolkata Knight Riders   \n",
              "\n",
              "                  bowling_team      batsman   bowler  runs  wickets  overs  \\\n",
              "0  Royal Challengers Bangalore   SC Ganguly  P Kumar     1        0    0.1   \n",
              "1  Royal Challengers Bangalore  BB McCullum  P Kumar     1        0    0.2   \n",
              "2  Royal Challengers Bangalore  BB McCullum  P Kumar     2        0    0.2   \n",
              "3  Royal Challengers Bangalore  BB McCullum  P Kumar     2        0    0.3   \n",
              "4  Royal Challengers Bangalore  BB McCullum  P Kumar     2        0    0.4   \n",
              "\n",
              "   runs_last_5  wickets_last_5  striker  non-striker  total  \n",
              "0            1               0        0            0    222  \n",
              "1            1               0        0            0    222  \n",
              "2            2               0        0            0    222  \n",
              "3            2               0        0            0    222  \n",
              "4            2               0        0            0    222  "
            ],
            "text/html": [
              "\n",
              "  <div id=\"df-c706a81e-f62d-408b-9b6f-4e603eb95fe2\" class=\"colab-df-container\">\n",
              "    <div>\n",
              "<style scoped>\n",
              "    .dataframe tbody tr th:only-of-type {\n",
              "        vertical-align: middle;\n",
              "    }\n",
              "\n",
              "    .dataframe tbody tr th {\n",
              "        vertical-align: top;\n",
              "    }\n",
              "\n",
              "    .dataframe thead th {\n",
              "        text-align: right;\n",
              "    }\n",
              "</style>\n",
              "<table border=\"1\" class=\"dataframe\">\n",
              "  <thead>\n",
              "    <tr style=\"text-align: right;\">\n",
              "      <th></th>\n",
              "      <th>mid</th>\n",
              "      <th>date</th>\n",
              "      <th>venue</th>\n",
              "      <th>batting_team</th>\n",
              "      <th>bowling_team</th>\n",
              "      <th>batsman</th>\n",
              "      <th>bowler</th>\n",
              "      <th>runs</th>\n",
              "      <th>wickets</th>\n",
              "      <th>overs</th>\n",
              "      <th>runs_last_5</th>\n",
              "      <th>wickets_last_5</th>\n",
              "      <th>striker</th>\n",
              "      <th>non-striker</th>\n",
              "      <th>total</th>\n",
              "    </tr>\n",
              "  </thead>\n",
              "  <tbody>\n",
              "    <tr>\n",
              "      <th>0</th>\n",
              "      <td>1</td>\n",
              "      <td>2008-04-18</td>\n",
              "      <td>M Chinnaswamy Stadium</td>\n",
              "      <td>Kolkata Knight Riders</td>\n",
              "      <td>Royal Challengers Bangalore</td>\n",
              "      <td>SC Ganguly</td>\n",
              "      <td>P Kumar</td>\n",
              "      <td>1</td>\n",
              "      <td>0</td>\n",
              "      <td>0.1</td>\n",
              "      <td>1</td>\n",
              "      <td>0</td>\n",
              "      <td>0</td>\n",
              "      <td>0</td>\n",
              "      <td>222</td>\n",
              "    </tr>\n",
              "    <tr>\n",
              "      <th>1</th>\n",
              "      <td>1</td>\n",
              "      <td>2008-04-18</td>\n",
              "      <td>M Chinnaswamy Stadium</td>\n",
              "      <td>Kolkata Knight Riders</td>\n",
              "      <td>Royal Challengers Bangalore</td>\n",
              "      <td>BB McCullum</td>\n",
              "      <td>P Kumar</td>\n",
              "      <td>1</td>\n",
              "      <td>0</td>\n",
              "      <td>0.2</td>\n",
              "      <td>1</td>\n",
              "      <td>0</td>\n",
              "      <td>0</td>\n",
              "      <td>0</td>\n",
              "      <td>222</td>\n",
              "    </tr>\n",
              "    <tr>\n",
              "      <th>2</th>\n",
              "      <td>1</td>\n",
              "      <td>2008-04-18</td>\n",
              "      <td>M Chinnaswamy Stadium</td>\n",
              "      <td>Kolkata Knight Riders</td>\n",
              "      <td>Royal Challengers Bangalore</td>\n",
              "      <td>BB McCullum</td>\n",
              "      <td>P Kumar</td>\n",
              "      <td>2</td>\n",
              "      <td>0</td>\n",
              "      <td>0.2</td>\n",
              "      <td>2</td>\n",
              "      <td>0</td>\n",
              "      <td>0</td>\n",
              "      <td>0</td>\n",
              "      <td>222</td>\n",
              "    </tr>\n",
              "    <tr>\n",
              "      <th>3</th>\n",
              "      <td>1</td>\n",
              "      <td>2008-04-18</td>\n",
              "      <td>M Chinnaswamy Stadium</td>\n",
              "      <td>Kolkata Knight Riders</td>\n",
              "      <td>Royal Challengers Bangalore</td>\n",
              "      <td>BB McCullum</td>\n",
              "      <td>P Kumar</td>\n",
              "      <td>2</td>\n",
              "      <td>0</td>\n",
              "      <td>0.3</td>\n",
              "      <td>2</td>\n",
              "      <td>0</td>\n",
              "      <td>0</td>\n",
              "      <td>0</td>\n",
              "      <td>222</td>\n",
              "    </tr>\n",
              "    <tr>\n",
              "      <th>4</th>\n",
              "      <td>1</td>\n",
              "      <td>2008-04-18</td>\n",
              "      <td>M Chinnaswamy Stadium</td>\n",
              "      <td>Kolkata Knight Riders</td>\n",
              "      <td>Royal Challengers Bangalore</td>\n",
              "      <td>BB McCullum</td>\n",
              "      <td>P Kumar</td>\n",
              "      <td>2</td>\n",
              "      <td>0</td>\n",
              "      <td>0.4</td>\n",
              "      <td>2</td>\n",
              "      <td>0</td>\n",
              "      <td>0</td>\n",
              "      <td>0</td>\n",
              "      <td>222</td>\n",
              "    </tr>\n",
              "  </tbody>\n",
              "</table>\n",
              "</div>\n",
              "    <div class=\"colab-df-buttons\">\n",
              "\n",
              "  <div class=\"colab-df-container\">\n",
              "    <button class=\"colab-df-convert\" onclick=\"convertToInteractive('df-c706a81e-f62d-408b-9b6f-4e603eb95fe2')\"\n",
              "            title=\"Convert this dataframe to an interactive table.\"\n",
              "            style=\"display:none;\">\n",
              "\n",
              "  <svg xmlns=\"http://www.w3.org/2000/svg\" height=\"24px\" viewBox=\"0 -960 960 960\">\n",
              "    <path d=\"M120-120v-720h720v720H120Zm60-500h600v-160H180v160Zm220 220h160v-160H400v160Zm0 220h160v-160H400v160ZM180-400h160v-160H180v160Zm440 0h160v-160H620v160ZM180-180h160v-160H180v160Zm440 0h160v-160H620v160Z\"/>\n",
              "  </svg>\n",
              "    </button>\n",
              "\n",
              "  <style>\n",
              "    .colab-df-container {\n",
              "      display:flex;\n",
              "      gap: 12px;\n",
              "    }\n",
              "\n",
              "    .colab-df-convert {\n",
              "      background-color: #E8F0FE;\n",
              "      border: none;\n",
              "      border-radius: 50%;\n",
              "      cursor: pointer;\n",
              "      display: none;\n",
              "      fill: #1967D2;\n",
              "      height: 32px;\n",
              "      padding: 0 0 0 0;\n",
              "      width: 32px;\n",
              "    }\n",
              "\n",
              "    .colab-df-convert:hover {\n",
              "      background-color: #E2EBFA;\n",
              "      box-shadow: 0px 1px 2px rgba(60, 64, 67, 0.3), 0px 1px 3px 1px rgba(60, 64, 67, 0.15);\n",
              "      fill: #174EA6;\n",
              "    }\n",
              "\n",
              "    .colab-df-buttons div {\n",
              "      margin-bottom: 4px;\n",
              "    }\n",
              "\n",
              "    [theme=dark] .colab-df-convert {\n",
              "      background-color: #3B4455;\n",
              "      fill: #D2E3FC;\n",
              "    }\n",
              "\n",
              "    [theme=dark] .colab-df-convert:hover {\n",
              "      background-color: #434B5C;\n",
              "      box-shadow: 0px 1px 3px 1px rgba(0, 0, 0, 0.15);\n",
              "      filter: drop-shadow(0px 1px 2px rgba(0, 0, 0, 0.3));\n",
              "      fill: #FFFFFF;\n",
              "    }\n",
              "  </style>\n",
              "\n",
              "    <script>\n",
              "      const buttonEl =\n",
              "        document.querySelector('#df-c706a81e-f62d-408b-9b6f-4e603eb95fe2 button.colab-df-convert');\n",
              "      buttonEl.style.display =\n",
              "        google.colab.kernel.accessAllowed ? 'block' : 'none';\n",
              "\n",
              "      async function convertToInteractive(key) {\n",
              "        const element = document.querySelector('#df-c706a81e-f62d-408b-9b6f-4e603eb95fe2');\n",
              "        const dataTable =\n",
              "          await google.colab.kernel.invokeFunction('convertToInteractive',\n",
              "                                                    [key], {});\n",
              "        if (!dataTable) return;\n",
              "\n",
              "        const docLinkHtml = 'Like what you see? Visit the ' +\n",
              "          '<a target=\"_blank\" href=https://colab.research.google.com/notebooks/data_table.ipynb>data table notebook</a>'\n",
              "          + ' to learn more about interactive tables.';\n",
              "        element.innerHTML = '';\n",
              "        dataTable['output_type'] = 'display_data';\n",
              "        await google.colab.output.renderOutput(dataTable, element);\n",
              "        const docLink = document.createElement('div');\n",
              "        docLink.innerHTML = docLinkHtml;\n",
              "        element.appendChild(docLink);\n",
              "      }\n",
              "    </script>\n",
              "  </div>\n",
              "\n",
              "\n",
              "    <div id=\"df-42954eb6-58c7-4c02-915f-3faa4450f7df\">\n",
              "      <button class=\"colab-df-quickchart\" onclick=\"quickchart('df-42954eb6-58c7-4c02-915f-3faa4450f7df')\"\n",
              "                title=\"Suggest charts\"\n",
              "                style=\"display:none;\">\n",
              "\n",
              "<svg xmlns=\"http://www.w3.org/2000/svg\" height=\"24px\"viewBox=\"0 0 24 24\"\n",
              "     width=\"24px\">\n",
              "    <g>\n",
              "        <path d=\"M19 3H5c-1.1 0-2 .9-2 2v14c0 1.1.9 2 2 2h14c1.1 0 2-.9 2-2V5c0-1.1-.9-2-2-2zM9 17H7v-7h2v7zm4 0h-2V7h2v10zm4 0h-2v-4h2v4z\"/>\n",
              "    </g>\n",
              "</svg>\n",
              "      </button>\n",
              "\n",
              "<style>\n",
              "  .colab-df-quickchart {\n",
              "      --bg-color: #E8F0FE;\n",
              "      --fill-color: #1967D2;\n",
              "      --hover-bg-color: #E2EBFA;\n",
              "      --hover-fill-color: #174EA6;\n",
              "      --disabled-fill-color: #AAA;\n",
              "      --disabled-bg-color: #DDD;\n",
              "  }\n",
              "\n",
              "  [theme=dark] .colab-df-quickchart {\n",
              "      --bg-color: #3B4455;\n",
              "      --fill-color: #D2E3FC;\n",
              "      --hover-bg-color: #434B5C;\n",
              "      --hover-fill-color: #FFFFFF;\n",
              "      --disabled-bg-color: #3B4455;\n",
              "      --disabled-fill-color: #666;\n",
              "  }\n",
              "\n",
              "  .colab-df-quickchart {\n",
              "    background-color: var(--bg-color);\n",
              "    border: none;\n",
              "    border-radius: 50%;\n",
              "    cursor: pointer;\n",
              "    display: none;\n",
              "    fill: var(--fill-color);\n",
              "    height: 32px;\n",
              "    padding: 0;\n",
              "    width: 32px;\n",
              "  }\n",
              "\n",
              "  .colab-df-quickchart:hover {\n",
              "    background-color: var(--hover-bg-color);\n",
              "    box-shadow: 0 1px 2px rgba(60, 64, 67, 0.3), 0 1px 3px 1px rgba(60, 64, 67, 0.15);\n",
              "    fill: var(--button-hover-fill-color);\n",
              "  }\n",
              "\n",
              "  .colab-df-quickchart-complete:disabled,\n",
              "  .colab-df-quickchart-complete:disabled:hover {\n",
              "    background-color: var(--disabled-bg-color);\n",
              "    fill: var(--disabled-fill-color);\n",
              "    box-shadow: none;\n",
              "  }\n",
              "\n",
              "  .colab-df-spinner {\n",
              "    border: 2px solid var(--fill-color);\n",
              "    border-color: transparent;\n",
              "    border-bottom-color: var(--fill-color);\n",
              "    animation:\n",
              "      spin 1s steps(1) infinite;\n",
              "  }\n",
              "\n",
              "  @keyframes spin {\n",
              "    0% {\n",
              "      border-color: transparent;\n",
              "      border-bottom-color: var(--fill-color);\n",
              "      border-left-color: var(--fill-color);\n",
              "    }\n",
              "    20% {\n",
              "      border-color: transparent;\n",
              "      border-left-color: var(--fill-color);\n",
              "      border-top-color: var(--fill-color);\n",
              "    }\n",
              "    30% {\n",
              "      border-color: transparent;\n",
              "      border-left-color: var(--fill-color);\n",
              "      border-top-color: var(--fill-color);\n",
              "      border-right-color: var(--fill-color);\n",
              "    }\n",
              "    40% {\n",
              "      border-color: transparent;\n",
              "      border-right-color: var(--fill-color);\n",
              "      border-top-color: var(--fill-color);\n",
              "    }\n",
              "    60% {\n",
              "      border-color: transparent;\n",
              "      border-right-color: var(--fill-color);\n",
              "    }\n",
              "    80% {\n",
              "      border-color: transparent;\n",
              "      border-right-color: var(--fill-color);\n",
              "      border-bottom-color: var(--fill-color);\n",
              "    }\n",
              "    90% {\n",
              "      border-color: transparent;\n",
              "      border-bottom-color: var(--fill-color);\n",
              "    }\n",
              "  }\n",
              "</style>\n",
              "\n",
              "      <script>\n",
              "        async function quickchart(key) {\n",
              "          const quickchartButtonEl =\n",
              "            document.querySelector('#' + key + ' button');\n",
              "          quickchartButtonEl.disabled = true;  // To prevent multiple clicks.\n",
              "          quickchartButtonEl.classList.add('colab-df-spinner');\n",
              "          try {\n",
              "            const charts = await google.colab.kernel.invokeFunction(\n",
              "                'suggestCharts', [key], {});\n",
              "          } catch (error) {\n",
              "            console.error('Error during call to suggestCharts:', error);\n",
              "          }\n",
              "          quickchartButtonEl.classList.remove('colab-df-spinner');\n",
              "          quickchartButtonEl.classList.add('colab-df-quickchart-complete');\n",
              "        }\n",
              "        (() => {\n",
              "          let quickchartButtonEl =\n",
              "            document.querySelector('#df-42954eb6-58c7-4c02-915f-3faa4450f7df button');\n",
              "          quickchartButtonEl.style.display =\n",
              "            google.colab.kernel.accessAllowed ? 'block' : 'none';\n",
              "        })();\n",
              "      </script>\n",
              "    </div>\n",
              "\n",
              "    </div>\n",
              "  </div>\n"
            ],
            "application/vnd.google.colaboratory.intrinsic+json": {
              "type": "dataframe",
              "variable_name": "df",
              "summary": "{\n  \"name\": \"df\",\n  \"rows\": 76014,\n  \"fields\": [\n    {\n      \"column\": \"mid\",\n      \"properties\": {\n        \"dtype\": \"number\",\n        \"std\": 178,\n        \"min\": 1,\n        \"max\": 617,\n        \"num_unique_values\": 617,\n        \"samples\": [\n          50,\n          582,\n          83\n        ],\n        \"semantic_type\": \"\",\n        \"description\": \"\"\n      }\n    },\n    {\n      \"column\": \"date\",\n      \"properties\": {\n        \"dtype\": \"object\",\n        \"num_unique_values\": 442,\n        \"samples\": [\n          \"2014-05-02\",\n          \"2012-05-15\",\n          \"2009-05-18\"\n        ],\n        \"semantic_type\": \"\",\n        \"description\": \"\"\n      }\n    },\n    {\n      \"column\": \"venue\",\n      \"properties\": {\n        \"dtype\": \"category\",\n        \"num_unique_values\": 35,\n        \"samples\": [\n          \"Shaheed Veer Narayan Singh International Stadium\",\n          \"Buffalo Park\",\n          \"Dr. Y.S. Rajasekhara Reddy ACA-VDCA Cricket Stadium\"\n        ],\n        \"semantic_type\": \"\",\n        \"description\": \"\"\n      }\n    },\n    {\n      \"column\": \"batting_team\",\n      \"properties\": {\n        \"dtype\": \"category\",\n        \"num_unique_values\": 14,\n        \"samples\": [\n          \"Pune Warriors\",\n          \"Rising Pune Supergiants\",\n          \"Kolkata Knight Riders\"\n        ],\n        \"semantic_type\": \"\",\n        \"description\": \"\"\n      }\n    },\n    {\n      \"column\": \"bowling_team\",\n      \"properties\": {\n        \"dtype\": \"category\",\n        \"num_unique_values\": 14,\n        \"samples\": [\n          \"Kochi Tuskers Kerala\",\n          \"Rising Pune Supergiants\",\n          \"Royal Challengers Bangalore\"\n        ],\n        \"semantic_type\": \"\",\n        \"description\": \"\"\n      }\n    },\n    {\n      \"column\": \"batsman\",\n      \"properties\": {\n        \"dtype\": \"category\",\n        \"num_unique_values\": 411,\n        \"samples\": [\n          \"A Nehra\",\n          \"A Symonds\",\n          \"DJ Bravo\"\n        ],\n        \"semantic_type\": \"\",\n        \"description\": \"\"\n      }\n    },\n    {\n      \"column\": \"bowler\",\n      \"properties\": {\n        \"dtype\": \"category\",\n        \"num_unique_values\": 329,\n        \"samples\": [\n          \"IK Pathan\",\n          \"AB McDonald\",\n          \"JM Kemp\"\n        ],\n        \"semantic_type\": \"\",\n        \"description\": \"\"\n      }\n    },\n    {\n      \"column\": \"runs\",\n      \"properties\": {\n        \"dtype\": \"number\",\n        \"std\": 48,\n        \"min\": 0,\n        \"max\": 263,\n        \"num_unique_values\": 252,\n        \"samples\": [\n          106,\n          21,\n          97\n        ],\n        \"semantic_type\": \"\",\n        \"description\": \"\"\n      }\n    },\n    {\n      \"column\": \"wickets\",\n      \"properties\": {\n        \"dtype\": \"number\",\n        \"std\": 2,\n        \"min\": 0,\n        \"max\": 10,\n        \"num_unique_values\": 11,\n        \"samples\": [\n          5,\n          0,\n          9\n        ],\n        \"semantic_type\": \"\",\n        \"description\": \"\"\n      }\n    },\n    {\n      \"column\": \"overs\",\n      \"properties\": {\n        \"dtype\": \"number\",\n        \"std\": 5.772586873852368,\n        \"min\": 0.0,\n        \"max\": 19.6,\n        \"num_unique_values\": 140,\n        \"samples\": [\n          17.6,\n          11.1,\n          5.1\n        ],\n        \"semantic_type\": \"\",\n        \"description\": \"\"\n      }\n    },\n    {\n      \"column\": \"runs_last_5\",\n      \"properties\": {\n        \"dtype\": \"number\",\n        \"std\": 14,\n        \"min\": 0,\n        \"max\": 113,\n        \"num_unique_values\": 102,\n        \"samples\": [\n          37,\n          18,\n          74\n        ],\n        \"semantic_type\": \"\",\n        \"description\": \"\"\n      }\n    },\n    {\n      \"column\": \"wickets_last_5\",\n      \"properties\": {\n        \"dtype\": \"number\",\n        \"std\": 1,\n        \"min\": 0,\n        \"max\": 7,\n        \"num_unique_values\": 8,\n        \"samples\": [\n          1,\n          5,\n          0\n        ],\n        \"semantic_type\": \"\",\n        \"description\": \"\"\n      }\n    },\n    {\n      \"column\": \"striker\",\n      \"properties\": {\n        \"dtype\": \"number\",\n        \"std\": 20,\n        \"min\": 0,\n        \"max\": 175,\n        \"num_unique_values\": 155,\n        \"samples\": [\n          95,\n          160,\n          80\n        ],\n        \"semantic_type\": \"\",\n        \"description\": \"\"\n      }\n    },\n    {\n      \"column\": \"non-striker\",\n      \"properties\": {\n        \"dtype\": \"number\",\n        \"std\": 10,\n        \"min\": 0,\n        \"max\": 109,\n        \"num_unique_values\": 88,\n        \"samples\": [\n          69,\n          0,\n          18\n        ],\n        \"semantic_type\": \"\",\n        \"description\": \"\"\n      }\n    },\n    {\n      \"column\": \"total\",\n      \"properties\": {\n        \"dtype\": \"number\",\n        \"std\": 29,\n        \"min\": 67,\n        \"max\": 263,\n        \"num_unique_values\": 138,\n        \"samples\": [\n          132,\n          115,\n          154\n        ],\n        \"semantic_type\": \"\",\n        \"description\": \"\"\n      }\n    }\n  ]\n}"
            }
          },
          "metadata": {},
          "execution_count": 41
        }
      ],
      "source": [
        "df.head()"
      ]
    },
    {
      "cell_type": "markdown",
      "id": "8e484091-456a-4c86-9d02-0272013b39cf",
      "metadata": {
        "id": "8e484091-456a-4c86-9d02-0272013b39cf"
      },
      "source": [
        "## Data Information\n"
      ]
    },
    {
      "cell_type": "code",
      "execution_count": 42,
      "id": "881ade19-942c-4d0a-a163-939ff985dab3",
      "metadata": {
        "id": "881ade19-942c-4d0a-a163-939ff985dab3"
      },
      "outputs": [],
      "source": [
        "df =df.drop_duplicates()\n"
      ]
    },
    {
      "cell_type": "code",
      "execution_count": 43,
      "id": "24f7cc3c-c845-4978-938b-6ab465a33a86",
      "metadata": {
        "colab": {
          "base_uri": "https://localhost:8080/"
        },
        "id": "24f7cc3c-c845-4978-938b-6ab465a33a86",
        "outputId": "13bf4491-08e6-42b9-bbd9-6cee195fc83c"
      },
      "outputs": [
        {
          "output_type": "execute_result",
          "data": {
            "text/plain": [
              "(76014, 15)"
            ]
          },
          "metadata": {},
          "execution_count": 43
        }
      ],
      "source": [
        "df.shape\n"
      ]
    },
    {
      "cell_type": "markdown",
      "id": "f5c26375-f5e0-4699-825e-016e490957e1",
      "metadata": {
        "id": "f5c26375-f5e0-4699-825e-016e490957e1"
      },
      "source": [
        "Handle missing values by filling with 0 where appropriate\n",
        "\n"
      ]
    },
    {
      "cell_type": "code",
      "execution_count": 44,
      "id": "6fb42aaf-439e-4593-8ad6-624140cc13c2",
      "metadata": {
        "id": "6fb42aaf-439e-4593-8ad6-624140cc13c2"
      },
      "outputs": [],
      "source": [
        "df['runs'] = df['runs'].fillna(0)\n",
        "df['wickets'] = df['wickets'].fillna(0)"
      ]
    },
    {
      "cell_type": "code",
      "execution_count": 45,
      "id": "f60b588e-871e-4b73-9ac9-4fd41a1417aa",
      "metadata": {
        "colab": {
          "base_uri": "https://localhost:8080/"
        },
        "id": "f60b588e-871e-4b73-9ac9-4fd41a1417aa",
        "outputId": "5b2b9fd0-87ad-42c3-fb62-8844c0af03ea"
      },
      "outputs": [
        {
          "output_type": "stream",
          "name": "stdout",
          "text": [
            "<class 'pandas.core.frame.DataFrame'>\n",
            "RangeIndex: 76014 entries, 0 to 76013\n",
            "Data columns (total 15 columns):\n",
            " #   Column          Non-Null Count  Dtype  \n",
            "---  ------          --------------  -----  \n",
            " 0   mid             76014 non-null  int64  \n",
            " 1   date            76014 non-null  object \n",
            " 2   venue           76014 non-null  object \n",
            " 3   batting_team    76014 non-null  object \n",
            " 4   bowling_team    76014 non-null  object \n",
            " 5   batsman         76014 non-null  object \n",
            " 6   bowler          76014 non-null  object \n",
            " 7   runs            76014 non-null  int64  \n",
            " 8   wickets         76014 non-null  int64  \n",
            " 9   overs           76014 non-null  float64\n",
            " 10  runs_last_5     76014 non-null  int64  \n",
            " 11  wickets_last_5  76014 non-null  int64  \n",
            " 12  striker         76014 non-null  int64  \n",
            " 13  non-striker     76014 non-null  int64  \n",
            " 14  total           76014 non-null  int64  \n",
            "dtypes: float64(1), int64(8), object(6)\n",
            "memory usage: 8.7+ MB\n"
          ]
        }
      ],
      "source": [
        "df.info()\n"
      ]
    },
    {
      "cell_type": "code",
      "execution_count": 46,
      "id": "e12cd275-8aff-4211-ba87-7665c4c279d7",
      "metadata": {
        "colab": {
          "base_uri": "https://localhost:8080/",
          "height": 300
        },
        "id": "e12cd275-8aff-4211-ba87-7665c4c279d7",
        "outputId": "a6e351eb-f9f6-40b0-87ef-fe9d7c232bdd"
      },
      "outputs": [
        {
          "output_type": "execute_result",
          "data": {
            "text/plain": [
              "                mid          runs       wickets         overs   runs_last_5  \\\n",
              "count  76014.000000  76014.000000  76014.000000  76014.000000  76014.000000   \n",
              "mean     308.627740     74.889349      2.415844      9.783068     33.216434   \n",
              "std      178.156878     48.823327      2.015207      5.772587     14.914174   \n",
              "min        1.000000      0.000000      0.000000      0.000000      0.000000   \n",
              "25%      154.000000     34.000000      1.000000      4.600000     24.000000   \n",
              "50%      308.000000     70.000000      2.000000      9.600000     34.000000   \n",
              "75%      463.000000    111.000000      4.000000     14.600000     43.000000   \n",
              "max      617.000000    263.000000     10.000000     19.600000    113.000000   \n",
              "\n",
              "       wickets_last_5       striker   non-striker         total  \n",
              "count    76014.000000  76014.000000  76014.000000  76014.000000  \n",
              "mean         1.120307     24.962283      8.869287    160.901452  \n",
              "std          1.053343     20.079752     10.795742     29.246231  \n",
              "min          0.000000      0.000000      0.000000     67.000000  \n",
              "25%          0.000000     10.000000      1.000000    142.000000  \n",
              "50%          1.000000     20.000000      5.000000    162.000000  \n",
              "75%          2.000000     35.000000     13.000000    181.000000  \n",
              "max          7.000000    175.000000    109.000000    263.000000  "
            ],
            "text/html": [
              "\n",
              "  <div id=\"df-46cc2607-c65e-4cc8-a5c9-1d331de4edb3\" class=\"colab-df-container\">\n",
              "    <div>\n",
              "<style scoped>\n",
              "    .dataframe tbody tr th:only-of-type {\n",
              "        vertical-align: middle;\n",
              "    }\n",
              "\n",
              "    .dataframe tbody tr th {\n",
              "        vertical-align: top;\n",
              "    }\n",
              "\n",
              "    .dataframe thead th {\n",
              "        text-align: right;\n",
              "    }\n",
              "</style>\n",
              "<table border=\"1\" class=\"dataframe\">\n",
              "  <thead>\n",
              "    <tr style=\"text-align: right;\">\n",
              "      <th></th>\n",
              "      <th>mid</th>\n",
              "      <th>runs</th>\n",
              "      <th>wickets</th>\n",
              "      <th>overs</th>\n",
              "      <th>runs_last_5</th>\n",
              "      <th>wickets_last_5</th>\n",
              "      <th>striker</th>\n",
              "      <th>non-striker</th>\n",
              "      <th>total</th>\n",
              "    </tr>\n",
              "  </thead>\n",
              "  <tbody>\n",
              "    <tr>\n",
              "      <th>count</th>\n",
              "      <td>76014.000000</td>\n",
              "      <td>76014.000000</td>\n",
              "      <td>76014.000000</td>\n",
              "      <td>76014.000000</td>\n",
              "      <td>76014.000000</td>\n",
              "      <td>76014.000000</td>\n",
              "      <td>76014.000000</td>\n",
              "      <td>76014.000000</td>\n",
              "      <td>76014.000000</td>\n",
              "    </tr>\n",
              "    <tr>\n",
              "      <th>mean</th>\n",
              "      <td>308.627740</td>\n",
              "      <td>74.889349</td>\n",
              "      <td>2.415844</td>\n",
              "      <td>9.783068</td>\n",
              "      <td>33.216434</td>\n",
              "      <td>1.120307</td>\n",
              "      <td>24.962283</td>\n",
              "      <td>8.869287</td>\n",
              "      <td>160.901452</td>\n",
              "    </tr>\n",
              "    <tr>\n",
              "      <th>std</th>\n",
              "      <td>178.156878</td>\n",
              "      <td>48.823327</td>\n",
              "      <td>2.015207</td>\n",
              "      <td>5.772587</td>\n",
              "      <td>14.914174</td>\n",
              "      <td>1.053343</td>\n",
              "      <td>20.079752</td>\n",
              "      <td>10.795742</td>\n",
              "      <td>29.246231</td>\n",
              "    </tr>\n",
              "    <tr>\n",
              "      <th>min</th>\n",
              "      <td>1.000000</td>\n",
              "      <td>0.000000</td>\n",
              "      <td>0.000000</td>\n",
              "      <td>0.000000</td>\n",
              "      <td>0.000000</td>\n",
              "      <td>0.000000</td>\n",
              "      <td>0.000000</td>\n",
              "      <td>0.000000</td>\n",
              "      <td>67.000000</td>\n",
              "    </tr>\n",
              "    <tr>\n",
              "      <th>25%</th>\n",
              "      <td>154.000000</td>\n",
              "      <td>34.000000</td>\n",
              "      <td>1.000000</td>\n",
              "      <td>4.600000</td>\n",
              "      <td>24.000000</td>\n",
              "      <td>0.000000</td>\n",
              "      <td>10.000000</td>\n",
              "      <td>1.000000</td>\n",
              "      <td>142.000000</td>\n",
              "    </tr>\n",
              "    <tr>\n",
              "      <th>50%</th>\n",
              "      <td>308.000000</td>\n",
              "      <td>70.000000</td>\n",
              "      <td>2.000000</td>\n",
              "      <td>9.600000</td>\n",
              "      <td>34.000000</td>\n",
              "      <td>1.000000</td>\n",
              "      <td>20.000000</td>\n",
              "      <td>5.000000</td>\n",
              "      <td>162.000000</td>\n",
              "    </tr>\n",
              "    <tr>\n",
              "      <th>75%</th>\n",
              "      <td>463.000000</td>\n",
              "      <td>111.000000</td>\n",
              "      <td>4.000000</td>\n",
              "      <td>14.600000</td>\n",
              "      <td>43.000000</td>\n",
              "      <td>2.000000</td>\n",
              "      <td>35.000000</td>\n",
              "      <td>13.000000</td>\n",
              "      <td>181.000000</td>\n",
              "    </tr>\n",
              "    <tr>\n",
              "      <th>max</th>\n",
              "      <td>617.000000</td>\n",
              "      <td>263.000000</td>\n",
              "      <td>10.000000</td>\n",
              "      <td>19.600000</td>\n",
              "      <td>113.000000</td>\n",
              "      <td>7.000000</td>\n",
              "      <td>175.000000</td>\n",
              "      <td>109.000000</td>\n",
              "      <td>263.000000</td>\n",
              "    </tr>\n",
              "  </tbody>\n",
              "</table>\n",
              "</div>\n",
              "    <div class=\"colab-df-buttons\">\n",
              "\n",
              "  <div class=\"colab-df-container\">\n",
              "    <button class=\"colab-df-convert\" onclick=\"convertToInteractive('df-46cc2607-c65e-4cc8-a5c9-1d331de4edb3')\"\n",
              "            title=\"Convert this dataframe to an interactive table.\"\n",
              "            style=\"display:none;\">\n",
              "\n",
              "  <svg xmlns=\"http://www.w3.org/2000/svg\" height=\"24px\" viewBox=\"0 -960 960 960\">\n",
              "    <path d=\"M120-120v-720h720v720H120Zm60-500h600v-160H180v160Zm220 220h160v-160H400v160Zm0 220h160v-160H400v160ZM180-400h160v-160H180v160Zm440 0h160v-160H620v160ZM180-180h160v-160H180v160Zm440 0h160v-160H620v160Z\"/>\n",
              "  </svg>\n",
              "    </button>\n",
              "\n",
              "  <style>\n",
              "    .colab-df-container {\n",
              "      display:flex;\n",
              "      gap: 12px;\n",
              "    }\n",
              "\n",
              "    .colab-df-convert {\n",
              "      background-color: #E8F0FE;\n",
              "      border: none;\n",
              "      border-radius: 50%;\n",
              "      cursor: pointer;\n",
              "      display: none;\n",
              "      fill: #1967D2;\n",
              "      height: 32px;\n",
              "      padding: 0 0 0 0;\n",
              "      width: 32px;\n",
              "    }\n",
              "\n",
              "    .colab-df-convert:hover {\n",
              "      background-color: #E2EBFA;\n",
              "      box-shadow: 0px 1px 2px rgba(60, 64, 67, 0.3), 0px 1px 3px 1px rgba(60, 64, 67, 0.15);\n",
              "      fill: #174EA6;\n",
              "    }\n",
              "\n",
              "    .colab-df-buttons div {\n",
              "      margin-bottom: 4px;\n",
              "    }\n",
              "\n",
              "    [theme=dark] .colab-df-convert {\n",
              "      background-color: #3B4455;\n",
              "      fill: #D2E3FC;\n",
              "    }\n",
              "\n",
              "    [theme=dark] .colab-df-convert:hover {\n",
              "      background-color: #434B5C;\n",
              "      box-shadow: 0px 1px 3px 1px rgba(0, 0, 0, 0.15);\n",
              "      filter: drop-shadow(0px 1px 2px rgba(0, 0, 0, 0.3));\n",
              "      fill: #FFFFFF;\n",
              "    }\n",
              "  </style>\n",
              "\n",
              "    <script>\n",
              "      const buttonEl =\n",
              "        document.querySelector('#df-46cc2607-c65e-4cc8-a5c9-1d331de4edb3 button.colab-df-convert');\n",
              "      buttonEl.style.display =\n",
              "        google.colab.kernel.accessAllowed ? 'block' : 'none';\n",
              "\n",
              "      async function convertToInteractive(key) {\n",
              "        const element = document.querySelector('#df-46cc2607-c65e-4cc8-a5c9-1d331de4edb3');\n",
              "        const dataTable =\n",
              "          await google.colab.kernel.invokeFunction('convertToInteractive',\n",
              "                                                    [key], {});\n",
              "        if (!dataTable) return;\n",
              "\n",
              "        const docLinkHtml = 'Like what you see? Visit the ' +\n",
              "          '<a target=\"_blank\" href=https://colab.research.google.com/notebooks/data_table.ipynb>data table notebook</a>'\n",
              "          + ' to learn more about interactive tables.';\n",
              "        element.innerHTML = '';\n",
              "        dataTable['output_type'] = 'display_data';\n",
              "        await google.colab.output.renderOutput(dataTable, element);\n",
              "        const docLink = document.createElement('div');\n",
              "        docLink.innerHTML = docLinkHtml;\n",
              "        element.appendChild(docLink);\n",
              "      }\n",
              "    </script>\n",
              "  </div>\n",
              "\n",
              "\n",
              "    <div id=\"df-77363071-0095-49bc-ba4c-c65f552f2f29\">\n",
              "      <button class=\"colab-df-quickchart\" onclick=\"quickchart('df-77363071-0095-49bc-ba4c-c65f552f2f29')\"\n",
              "                title=\"Suggest charts\"\n",
              "                style=\"display:none;\">\n",
              "\n",
              "<svg xmlns=\"http://www.w3.org/2000/svg\" height=\"24px\"viewBox=\"0 0 24 24\"\n",
              "     width=\"24px\">\n",
              "    <g>\n",
              "        <path d=\"M19 3H5c-1.1 0-2 .9-2 2v14c0 1.1.9 2 2 2h14c1.1 0 2-.9 2-2V5c0-1.1-.9-2-2-2zM9 17H7v-7h2v7zm4 0h-2V7h2v10zm4 0h-2v-4h2v4z\"/>\n",
              "    </g>\n",
              "</svg>\n",
              "      </button>\n",
              "\n",
              "<style>\n",
              "  .colab-df-quickchart {\n",
              "      --bg-color: #E8F0FE;\n",
              "      --fill-color: #1967D2;\n",
              "      --hover-bg-color: #E2EBFA;\n",
              "      --hover-fill-color: #174EA6;\n",
              "      --disabled-fill-color: #AAA;\n",
              "      --disabled-bg-color: #DDD;\n",
              "  }\n",
              "\n",
              "  [theme=dark] .colab-df-quickchart {\n",
              "      --bg-color: #3B4455;\n",
              "      --fill-color: #D2E3FC;\n",
              "      --hover-bg-color: #434B5C;\n",
              "      --hover-fill-color: #FFFFFF;\n",
              "      --disabled-bg-color: #3B4455;\n",
              "      --disabled-fill-color: #666;\n",
              "  }\n",
              "\n",
              "  .colab-df-quickchart {\n",
              "    background-color: var(--bg-color);\n",
              "    border: none;\n",
              "    border-radius: 50%;\n",
              "    cursor: pointer;\n",
              "    display: none;\n",
              "    fill: var(--fill-color);\n",
              "    height: 32px;\n",
              "    padding: 0;\n",
              "    width: 32px;\n",
              "  }\n",
              "\n",
              "  .colab-df-quickchart:hover {\n",
              "    background-color: var(--hover-bg-color);\n",
              "    box-shadow: 0 1px 2px rgba(60, 64, 67, 0.3), 0 1px 3px 1px rgba(60, 64, 67, 0.15);\n",
              "    fill: var(--button-hover-fill-color);\n",
              "  }\n",
              "\n",
              "  .colab-df-quickchart-complete:disabled,\n",
              "  .colab-df-quickchart-complete:disabled:hover {\n",
              "    background-color: var(--disabled-bg-color);\n",
              "    fill: var(--disabled-fill-color);\n",
              "    box-shadow: none;\n",
              "  }\n",
              "\n",
              "  .colab-df-spinner {\n",
              "    border: 2px solid var(--fill-color);\n",
              "    border-color: transparent;\n",
              "    border-bottom-color: var(--fill-color);\n",
              "    animation:\n",
              "      spin 1s steps(1) infinite;\n",
              "  }\n",
              "\n",
              "  @keyframes spin {\n",
              "    0% {\n",
              "      border-color: transparent;\n",
              "      border-bottom-color: var(--fill-color);\n",
              "      border-left-color: var(--fill-color);\n",
              "    }\n",
              "    20% {\n",
              "      border-color: transparent;\n",
              "      border-left-color: var(--fill-color);\n",
              "      border-top-color: var(--fill-color);\n",
              "    }\n",
              "    30% {\n",
              "      border-color: transparent;\n",
              "      border-left-color: var(--fill-color);\n",
              "      border-top-color: var(--fill-color);\n",
              "      border-right-color: var(--fill-color);\n",
              "    }\n",
              "    40% {\n",
              "      border-color: transparent;\n",
              "      border-right-color: var(--fill-color);\n",
              "      border-top-color: var(--fill-color);\n",
              "    }\n",
              "    60% {\n",
              "      border-color: transparent;\n",
              "      border-right-color: var(--fill-color);\n",
              "    }\n",
              "    80% {\n",
              "      border-color: transparent;\n",
              "      border-right-color: var(--fill-color);\n",
              "      border-bottom-color: var(--fill-color);\n",
              "    }\n",
              "    90% {\n",
              "      border-color: transparent;\n",
              "      border-bottom-color: var(--fill-color);\n",
              "    }\n",
              "  }\n",
              "</style>\n",
              "\n",
              "      <script>\n",
              "        async function quickchart(key) {\n",
              "          const quickchartButtonEl =\n",
              "            document.querySelector('#' + key + ' button');\n",
              "          quickchartButtonEl.disabled = true;  // To prevent multiple clicks.\n",
              "          quickchartButtonEl.classList.add('colab-df-spinner');\n",
              "          try {\n",
              "            const charts = await google.colab.kernel.invokeFunction(\n",
              "                'suggestCharts', [key], {});\n",
              "          } catch (error) {\n",
              "            console.error('Error during call to suggestCharts:', error);\n",
              "          }\n",
              "          quickchartButtonEl.classList.remove('colab-df-spinner');\n",
              "          quickchartButtonEl.classList.add('colab-df-quickchart-complete');\n",
              "        }\n",
              "        (() => {\n",
              "          let quickchartButtonEl =\n",
              "            document.querySelector('#df-77363071-0095-49bc-ba4c-c65f552f2f29 button');\n",
              "          quickchartButtonEl.style.display =\n",
              "            google.colab.kernel.accessAllowed ? 'block' : 'none';\n",
              "        })();\n",
              "      </script>\n",
              "    </div>\n",
              "\n",
              "    </div>\n",
              "  </div>\n"
            ],
            "application/vnd.google.colaboratory.intrinsic+json": {
              "type": "dataframe",
              "summary": "{\n  \"name\": \"df\",\n  \"rows\": 8,\n  \"fields\": [\n    {\n      \"column\": \"mid\",\n      \"properties\": {\n        \"dtype\": \"number\",\n        \"std\": 26773.160297682756,\n        \"min\": 1.0,\n        \"max\": 76014.0,\n        \"num_unique_values\": 8,\n        \"samples\": [\n          308.62773962691085,\n          308.0,\n          76014.0\n        ],\n        \"semantic_type\": \"\",\n        \"description\": \"\"\n      }\n    },\n    {\n      \"column\": \"runs\",\n      \"properties\": {\n        \"dtype\": \"number\",\n        \"std\": 26844.732937801764,\n        \"min\": 0.0,\n        \"max\": 76014.0,\n        \"num_unique_values\": 8,\n        \"samples\": [\n          74.88934933038651,\n          70.0,\n          76014.0\n        ],\n        \"semantic_type\": \"\",\n        \"description\": \"\"\n      }\n    },\n    {\n      \"column\": \"wickets\",\n      \"properties\": {\n        \"dtype\": \"number\",\n        \"std\": 26873.925174543074,\n        \"min\": 0.0,\n        \"max\": 76014.0,\n        \"num_unique_values\": 8,\n        \"samples\": [\n          2.415844449706633,\n          2.0,\n          76014.0\n        ],\n        \"semantic_type\": \"\",\n        \"description\": \"\"\n      }\n    },\n    {\n      \"column\": \"overs\",\n      \"properties\": {\n        \"dtype\": \"number\",\n        \"std\": 26871.77786292525,\n        \"min\": 0.0,\n        \"max\": 76014.0,\n        \"num_unique_values\": 8,\n        \"samples\": [\n          9.783067592811848,\n          9.6,\n          76014.0\n        ],\n        \"semantic_type\": \"\",\n        \"description\": \"\"\n      }\n    },\n    {\n      \"column\": \"runs_last_5\",\n      \"properties\": {\n        \"dtype\": \"number\",\n        \"std\": 26861.788737401086,\n        \"min\": 0.0,\n        \"max\": 76014.0,\n        \"num_unique_values\": 8,\n        \"samples\": [\n          33.21643381482359,\n          34.0,\n          76014.0\n        ],\n        \"semantic_type\": \"\",\n        \"description\": \"\"\n      }\n    },\n    {\n      \"column\": \"wickets_last_5\",\n      \"properties\": {\n        \"dtype\": \"number\",\n        \"std\": 26874.392663938244,\n        \"min\": 0.0,\n        \"max\": 76014.0,\n        \"num_unique_values\": 7,\n        \"samples\": [\n          76014.0,\n          1.1203067855921278,\n          2.0\n        ],\n        \"semantic_type\": \"\",\n        \"description\": \"\"\n      }\n    },\n    {\n      \"column\": \"striker\",\n      \"properties\": {\n        \"dtype\": \"number\",\n        \"std\": 26860.668525282294,\n        \"min\": 0.0,\n        \"max\": 76014.0,\n        \"num_unique_values\": 8,\n        \"samples\": [\n          24.962283263609336,\n          20.0,\n          76014.0\n        ],\n        \"semantic_type\": \"\",\n        \"description\": \"\"\n      }\n    },\n    {\n      \"column\": \"non-striker\",\n      \"properties\": {\n        \"dtype\": \"number\",\n        \"std\": 26867.57356448569,\n        \"min\": 0.0,\n        \"max\": 76014.0,\n        \"num_unique_values\": 8,\n        \"samples\": [\n          8.869287236561686,\n          5.0,\n          76014.0\n        ],\n        \"semantic_type\": \"\",\n        \"description\": \"\"\n      }\n    },\n    {\n      \"column\": \"total\",\n      \"properties\": {\n        \"dtype\": \"number\",\n        \"std\": 26824.333646067265,\n        \"min\": 29.24623082629794,\n        \"max\": 76014.0,\n        \"num_unique_values\": 8,\n        \"samples\": [\n          160.9014523640382,\n          162.0,\n          76014.0\n        ],\n        \"semantic_type\": \"\",\n        \"description\": \"\"\n      }\n    }\n  ]\n}"
            }
          },
          "metadata": {},
          "execution_count": 46
        }
      ],
      "source": [
        "df.describe()\n"
      ]
    },
    {
      "cell_type": "markdown",
      "id": "3e1862d8-60f0-49c4-9cf9-7e3a1e96f21e",
      "metadata": {
        "id": "3e1862d8-60f0-49c4-9cf9-7e3a1e96f21e"
      },
      "source": [
        "# --- Data Cleaning and Preprocessing ---\n"
      ]
    },
    {
      "cell_type": "code",
      "execution_count": 47,
      "id": "eb79226f-e47d-41c6-895b-70e503a20906",
      "metadata": {
        "id": "eb79226f-e47d-41c6-895b-70e503a20906"
      },
      "outputs": [],
      "source": [
        "# Remove irrelevant columns that are too specific for a generalized model\n",
        "# or are redundant."
      ]
    },
    {
      "cell_type": "code",
      "execution_count": 48,
      "id": "fd84cd31-2c9b-44ba-b485-3bd5124b9206",
      "metadata": {
        "id": "fd84cd31-2c9b-44ba-b485-3bd5124b9206"
      },
      "outputs": [],
      "source": [
        "df.drop(columns=['mid', 'batsman', 'bowler', 'striker', 'non-striker'], inplace=True)\n"
      ]
    },
    {
      "cell_type": "code",
      "execution_count": 49,
      "id": "3f8d6d39-6629-499c-9974-f83e51869868",
      "metadata": {
        "id": "3f8d6d39-6629-499c-9974-f83e51869868"
      },
      "outputs": [],
      "source": [
        "df.drop(columns=['date'], inplace=True)\n"
      ]
    },
    {
      "cell_type": "code",
      "execution_count": 50,
      "id": "0dabe6d0-39bb-48f5-8cb9-f8ceddd5ebec",
      "metadata": {
        "colab": {
          "base_uri": "https://localhost:8080/"
        },
        "id": "0dabe6d0-39bb-48f5-8cb9-f8ceddd5ebec",
        "outputId": "be4aa5bf-a047-4f78-f590-223302b57545"
      },
      "outputs": [
        {
          "output_type": "stream",
          "name": "stdout",
          "text": [
            "\n",
            "Data after dropping irrelevant columns:\n",
            "                   venue           batting_team                 bowling_team  \\\n",
            "0  M Chinnaswamy Stadium  Kolkata Knight Riders  Royal Challengers Bangalore   \n",
            "1  M Chinnaswamy Stadium  Kolkata Knight Riders  Royal Challengers Bangalore   \n",
            "2  M Chinnaswamy Stadium  Kolkata Knight Riders  Royal Challengers Bangalore   \n",
            "3  M Chinnaswamy Stadium  Kolkata Knight Riders  Royal Challengers Bangalore   \n",
            "4  M Chinnaswamy Stadium  Kolkata Knight Riders  Royal Challengers Bangalore   \n",
            "\n",
            "   runs  wickets  overs  runs_last_5  wickets_last_5  total  \n",
            "0     1        0    0.1            1               0    222  \n",
            "1     1        0    0.2            1               0    222  \n",
            "2     2        0    0.2            2               0    222  \n",
            "3     2        0    0.3            2               0    222  \n",
            "4     2        0    0.4            2               0    222  \n"
          ]
        }
      ],
      "source": [
        "print(\"\\nData after dropping irrelevant columns:\")\n",
        "print(df.head())"
      ]
    },
    {
      "cell_type": "code",
      "execution_count": 51,
      "id": "cda759a2-a02d-4fdb-98ef-d55bfa217400",
      "metadata": {
        "id": "cda759a2-a02d-4fdb-98ef-d55bfa217400"
      },
      "outputs": [],
      "source": [
        "consistent_teams = {\n",
        "    'Deccan Chargers': 'Sunrisers Hyderabad',\n",
        "    'Pune Warriors': 'Rising Pune Supergiant',\n",
        "    'Gujarat Lions': 'Gujarat Titans'\n",
        "}"
      ]
    },
    {
      "cell_type": "code",
      "execution_count": 52,
      "id": "8d576b33-f826-4b2d-8bba-f2c518e65f4c",
      "metadata": {
        "id": "8d576b33-f826-4b2d-8bba-f2c518e65f4c"
      },
      "outputs": [],
      "source": [
        "df['batting_team'] = df['batting_team'].replace(consistent_teams)\n",
        "df['bowling_team'] = df['bowling_team'].replace(consistent_teams)"
      ]
    },
    {
      "cell_type": "markdown",
      "id": "8f9ee896-049d-4737-9815-54fa3da58fcf",
      "metadata": {
        "id": "8f9ee896-049d-4737-9815-54fa3da58fcf"
      },
      "source": [
        "Remove teams that are no longer playing to simplify the model.\n",
        "\n"
      ]
    },
    {
      "cell_type": "code",
      "execution_count": 53,
      "id": "8f0d8fc4-3de2-40d7-ae61-1bd7cb553736",
      "metadata": {
        "id": "8f0d8fc4-3de2-40d7-ae61-1bd7cb553736"
      },
      "outputs": [],
      "source": [
        "current_teams = [\n",
        "    'Kolkata Knight Riders', 'Chennai Super Kings', 'Rajasthan Royals',\n",
        "    'Mumbai Indians', 'Sunrisers Hyderabad', 'Kings XI Punjab',\n",
        "    'Royal Challengers Bangalore', 'Delhi Capitals', 'Gujarat Titans',\n",
        "    'Lucknow Super Giants'\n",
        "]"
      ]
    },
    {
      "cell_type": "code",
      "execution_count": 54,
      "id": "2960edd1-20cb-439e-9412-7fa79ee7d128",
      "metadata": {
        "id": "2960edd1-20cb-439e-9412-7fa79ee7d128"
      },
      "outputs": [],
      "source": [
        "# 'Kings XI Punjab' is now 'Punjab Kings'. We'll keep the old name as it appears in the data.\n",
        "# 'Delhi Daredevils' is now 'Delhi Capitals'."
      ]
    },
    {
      "cell_type": "code",
      "execution_count": 55,
      "id": "b6d050ed-5fd9-4954-87bf-4c09ea2fca4e",
      "metadata": {
        "id": "b6d050ed-5fd9-4954-87bf-4c09ea2fca4e"
      },
      "outputs": [],
      "source": [
        "df = df[df['batting_team'].isin(current_teams)]\n",
        "df = df[df['bowling_team'].isin(current_teams)]"
      ]
    },
    {
      "cell_type": "code",
      "execution_count": 56,
      "id": "4d6dbecf-aa4d-4ed9-b28d-488b53906239",
      "metadata": {
        "colab": {
          "base_uri": "https://localhost:8080/"
        },
        "id": "4d6dbecf-aa4d-4ed9-b28d-488b53906239",
        "outputId": "49d53d55-01ca-4a25-a303-471962005774"
      },
      "outputs": [
        {
          "output_type": "stream",
          "name": "stdout",
          "text": [
            "\n",
            "Shape of data after filtering for current teams: (49526, 9)\n"
          ]
        }
      ],
      "source": [
        "print(f\"\\nShape of data after filtering for current teams: {df.shape}\")\n"
      ]
    },
    {
      "cell_type": "code",
      "execution_count": 57,
      "id": "b244cdd9-8722-4a8a-bc63-2a3d8129d1ef",
      "metadata": {
        "id": "b244cdd9-8722-4a8a-bc63-2a3d8129d1ef"
      },
      "outputs": [],
      "source": [
        "# Remove the first 5 overs of each match as there is not enough data\n",
        "# for 'runs_last_5' and 'wickets_last_5' to be meaningful.\n",
        "df = df[df['overs'] >= 5.0]"
      ]
    },
    {
      "cell_type": "code",
      "execution_count": 58,
      "id": "5f3115a4-bafc-40bf-9467-75c014537d04",
      "metadata": {
        "colab": {
          "base_uri": "https://localhost:8080/"
        },
        "id": "5f3115a4-bafc-40bf-9467-75c014537d04",
        "outputId": "a8469324-7330-4ddd-f5c1-f52228fb7a81"
      },
      "outputs": [
        {
          "output_type": "stream",
          "name": "stdout",
          "text": [
            "Shape of data after removing first 5 overs: (36932, 9)\n",
            "\n",
            "Cleaned Data Head:\n",
            "                    venue           batting_team                 bowling_team  \\\n",
            "32  M Chinnaswamy Stadium  Kolkata Knight Riders  Royal Challengers Bangalore   \n",
            "33  M Chinnaswamy Stadium  Kolkata Knight Riders  Royal Challengers Bangalore   \n",
            "34  M Chinnaswamy Stadium  Kolkata Knight Riders  Royal Challengers Bangalore   \n",
            "35  M Chinnaswamy Stadium  Kolkata Knight Riders  Royal Challengers Bangalore   \n",
            "36  M Chinnaswamy Stadium  Kolkata Knight Riders  Royal Challengers Bangalore   \n",
            "\n",
            "    runs  wickets  overs  runs_last_5  wickets_last_5  total  \n",
            "32    61        0    5.1           59               0    222  \n",
            "33    61        1    5.2           59               1    222  \n",
            "34    61        1    5.3           59               1    222  \n",
            "35    61        1    5.4           59               1    222  \n",
            "36    61        1    5.5           58               1    222  \n"
          ]
        }
      ],
      "source": [
        "print(f\"Shape of data after removing first 5 overs: {df.shape}\")\n",
        "print(\"\\nCleaned Data Head:\")\n",
        "print(df.head())"
      ]
    },
    {
      "cell_type": "markdown",
      "id": "15989ddd-d7ad-44e6-996a-2564d1b36c34",
      "metadata": {
        "id": "15989ddd-d7ad-44e6-996a-2564d1b36c34"
      },
      "source": [
        "# --- 2. Feature Engineering and Final Preparation ---\n"
      ]
    },
    {
      "cell_type": "code",
      "execution_count": 59,
      "id": "23b26687-c4e2-42f5-b37a-f343e88710eb",
      "metadata": {
        "id": "23b26687-c4e2-42f5-b37a-f343e88710eb"
      },
      "outputs": [],
      "source": [
        "X = df.drop(columns=['total'])\n",
        "y = df['total']"
      ]
    },
    {
      "cell_type": "code",
      "execution_count": 60,
      "id": "e748a5df-f1ac-453b-9909-b60b302bbb17",
      "metadata": {
        "id": "e748a5df-f1ac-453b-9909-b60b302bbb17"
      },
      "outputs": [],
      "source": [
        "# Identify categorical and numerical features\n",
        "categorical_features = ['venue', 'batting_team', 'bowling_team']\n",
        "numerical_features = [col for col in X.columns if col not in categorical_features]\n"
      ]
    },
    {
      "cell_type": "code",
      "execution_count": 61,
      "id": "1d1f7ae3-0574-4c52-8140-c607644bae12",
      "metadata": {
        "colab": {
          "base_uri": "https://localhost:8080/"
        },
        "id": "1d1f7ae3-0574-4c52-8140-c607644bae12",
        "outputId": "603820e2-41c7-43f2-8652-ed1982af50fb"
      },
      "outputs": [
        {
          "output_type": "stream",
          "name": "stdout",
          "text": [
            "\n",
            "Features (X) and Target (y) have been defined.\n",
            "Categorical Features: ['venue', 'batting_team', 'bowling_team']\n",
            "Numerical Features: ['runs', 'wickets', 'overs', 'runs_last_5', 'wickets_last_5']\n"
          ]
        }
      ],
      "source": [
        "print(\"\\nFeatures (X) and Target (y) have been defined.\")\n",
        "print(\"Categorical Features:\", categorical_features)\n",
        "print(\"Numerical Features:\", numerical_features)"
      ]
    },
    {
      "cell_type": "markdown",
      "id": "ecbe311c-7804-4278-a9e3-8ee59892985d",
      "metadata": {
        "id": "ecbe311c-7804-4278-a9e3-8ee59892985d"
      },
      "source": [
        "# --- 3. Model Building Pipeline ---\n"
      ]
    },
    {
      "cell_type": "markdown",
      "id": "32839114-55b0-46c2-bf17-246a269b1b0b",
      "metadata": {
        "id": "32839114-55b0-46c2-bf17-246a269b1b0b"
      },
      "source": [
        "##### Create a preprocessing pipeline for the features.\n",
        "##### - OneHotEncoder handles categorical variables.\n",
        "##### - 'passthrough' leaves the numerical variables untouched (as they are already scaled)."
      ]
    },
    {
      "cell_type": "code",
      "execution_count": 62,
      "id": "9d17c19f-2782-4357-8eea-7e7f6034b00b",
      "metadata": {
        "id": "9d17c19f-2782-4357-8eea-7e7f6034b00b"
      },
      "outputs": [],
      "source": [
        "preprocessor = ColumnTransformer(\n",
        "    transformers=[\n",
        "        ('cat', OneHotEncoder(handle_unknown='ignore', drop='first'), categorical_features)\n",
        "    ],\n",
        "    remainder='passthrough' # Keep other columns (numerical ones)\n",
        ")"
      ]
    },
    {
      "cell_type": "code",
      "execution_count": 63,
      "id": "094a9365-076b-4169-ace5-e75882582e1d",
      "metadata": {
        "id": "094a9365-076b-4169-ace5-e75882582e1d"
      },
      "outputs": [],
      "source": [
        "# Create the full model pipeline\n",
        "# This pipeline will first preprocess the data and then apply the regression model.\n",
        "model_pipeline = Pipeline(steps=[\n",
        "    ('preprocessor', preprocessor),\n",
        "    ('regressor', RandomForestRegressor(n_estimators=100, random_state=42))\n",
        "])"
      ]
    },
    {
      "cell_type": "code",
      "execution_count": 64,
      "id": "ea3be68a-5f80-4538-a647-7ffd6b21b8aa",
      "metadata": {
        "id": "ea3be68a-5f80-4538-a647-7ffd6b21b8aa"
      },
      "outputs": [],
      "source": [
        "# Split the data into training and testing sets\n",
        "X_train, X_test, y_train, y_test = train_test_split(X, y, test_size=0.2, random_state=42)\n"
      ]
    },
    {
      "cell_type": "code",
      "execution_count": 65,
      "id": "392ad699-f34f-48b2-8664-79bceeda6115",
      "metadata": {
        "colab": {
          "base_uri": "https://localhost:8080/"
        },
        "id": "392ad699-f34f-48b2-8664-79bceeda6115",
        "outputId": "e78de5b3-2fa9-4264-d725-cc8022a93841"
      },
      "outputs": [
        {
          "output_type": "stream",
          "name": "stdout",
          "text": [
            "\n",
            "Data split into training and testing sets.\n",
            "Training set size: 29545 samples\n",
            "Testing set size: 7387 samples\n"
          ]
        }
      ],
      "source": [
        "print(f\"\\nData split into training and testing sets.\")\n",
        "print(f\"Training set size: {X_train.shape[0]} samples\")\n",
        "print(f\"Testing set size: {X_test.shape[0]} samples\")"
      ]
    },
    {
      "cell_type": "code",
      "execution_count": 66,
      "id": "9398bba2-3662-4440-9204-e59a51068b56",
      "metadata": {
        "colab": {
          "base_uri": "https://localhost:8080/"
        },
        "id": "9398bba2-3662-4440-9204-e59a51068b56",
        "outputId": "81d160e3-7dde-4b5e-a8fe-a383e0a37fe1"
      },
      "outputs": [
        {
          "output_type": "stream",
          "name": "stdout",
          "text": [
            "\n",
            "Training the RandomForestRegressor model...\n",
            "Model training complete.\n"
          ]
        }
      ],
      "source": [
        "# Train the model\n",
        "print(\"\\nTraining the RandomForestRegressor model...\")\n",
        "model_pipeline.fit(X_train, y_train)\n",
        "print(\"Model training complete.\")"
      ]
    },
    {
      "cell_type": "markdown",
      "id": "2bff086b-7ed6-4e18-a2d9-f40a534b1ea5",
      "metadata": {
        "id": "2bff086b-7ed6-4e18-a2d9-f40a534b1ea5"
      },
      "source": [
        "# --- 4. Model Evaluation ---\n"
      ]
    },
    {
      "cell_type": "code",
      "execution_count": 67,
      "id": "8f475b1e-2f94-435f-a723-5210b798ebfc",
      "metadata": {
        "id": "8f475b1e-2f94-435f-a723-5210b798ebfc"
      },
      "outputs": [],
      "source": [
        "y_pred = model_pipeline.predict(X_test)"
      ]
    },
    {
      "cell_type": "code",
      "execution_count": 68,
      "id": "c7837838-8ea6-4c31-bd71-4719b26c4d4a",
      "metadata": {
        "id": "c7837838-8ea6-4c31-bd71-4719b26c4d4a"
      },
      "outputs": [],
      "source": [
        "# Calculate and print evaluation metrics\n",
        "mae = mean_absolute_error(y_test, y_pred)\n",
        "r2 = r2_score(y_test, y_pred)"
      ]
    },
    {
      "cell_type": "code",
      "execution_count": 69,
      "id": "f24c6e9f-9389-4ddd-ada2-cd2952f1e231",
      "metadata": {
        "colab": {
          "base_uri": "https://localhost:8080/"
        },
        "id": "f24c6e9f-9389-4ddd-ada2-cd2952f1e231",
        "outputId": "55461065-8c94-4c55-accb-9ec595cd7b98"
      },
      "outputs": [
        {
          "output_type": "stream",
          "name": "stdout",
          "text": [
            "\n",
            "--- Model Evaluation ---\n",
            "R-squared (R2) Score: 0.9568\n",
            "Mean Absolute Error (MAE): 3.10 runs\n",
            "------------------------\n",
            "An R2 score of >0.75 and MAE of <15 runs is generally considered a good result for this problem.\n"
          ]
        }
      ],
      "source": [
        "print(\"\\n--- Model Evaluation ---\")\n",
        "print(f\"R-squared (R2) Score: {r2:.4f}\")\n",
        "print(f\"Mean Absolute Error (MAE): {mae:.2f} runs\")\n",
        "print(\"------------------------\")\n",
        "print(\"An R2 score of >0.75 and MAE of <15 runs is generally considered a good result for this problem.\")\n"
      ]
    },
    {
      "cell_type": "markdown",
      "id": "2f8bb5b5-d0c1-41bb-a566-99db36943cb4",
      "metadata": {
        "id": "2f8bb5b5-d0c1-41bb-a566-99db36943cb4"
      },
      "source": [
        "### --- 5. Trying a Different Model (Ridge Regression) ---\n"
      ]
    },
    {
      "cell_type": "code",
      "execution_count": 70,
      "id": "78f3c362-d1c2-4d39-829a-f379712ed61d",
      "metadata": {
        "colab": {
          "base_uri": "https://localhost:8080/"
        },
        "id": "78f3c362-d1c2-4d39-829a-f379712ed61d",
        "outputId": "b80f819d-0089-4572-9dd6-5ad134a6f23d"
      },
      "outputs": [
        {
          "output_type": "stream",
          "name": "stdout",
          "text": [
            "\n",
            "Training the Ridge Regression model...\n",
            "Model training complete.\n",
            "\n",
            "--- Ridge Model Evaluation ---\n",
            "R-squared (R2) Score: 0.6532\n",
            "Mean Absolute Error (MAE): 12.39 runs\n",
            "------------------------------\n",
            "\n",
            "Comparing models, RandomForestRegressor appears to be more accurate for this task.\n"
          ]
        }
      ],
      "source": [
        "\n",
        "# Create a pipeline with Ridge regression\n",
        "ridge_pipeline = Pipeline(steps=[\n",
        "    ('preprocessor', preprocessor),\n",
        "    ('regressor', Ridge(alpha=1.0))\n",
        "])\n",
        "\n",
        "# Train the Ridge model\n",
        "print(\"\\nTraining the Ridge Regression model...\")\n",
        "ridge_pipeline.fit(X_train, y_train)\n",
        "print(\"Model training complete.\")\n",
        "\n",
        "# Evaluate the Ridge model\n",
        "y_pred_ridge = ridge_pipeline.predict(X_test)\n",
        "mae_ridge = mean_absolute_error(y_test, y_pred_ridge)\n",
        "r2_ridge = r2_score(y_test, y_pred_ridge)\n",
        "\n",
        "print(\"\\n--- Ridge Model Evaluation ---\")\n",
        "print(f\"R-squared (R2) Score: {r2_ridge:.4f}\")\n",
        "print(f\"Mean Absolute Error (MAE): {mae_ridge:.2f} runs\")\n",
        "print(\"------------------------------\")\n",
        "print(\"\\nComparing models, RandomForestRegressor appears to be more accurate for this task.\")\n"
      ]
    },
    {
      "cell_type": "markdown",
      "id": "53012f99-8701-4be1-a694-62fa0b6405e3",
      "metadata": {
        "id": "53012f99-8701-4be1-a694-62fa0b6405e3"
      },
      "source": [
        "# --- 6. Saving the Model ---"
      ]
    },
    {
      "cell_type": "code",
      "execution_count": 72,
      "id": "c52e6ca6-872e-482d-a909-677bd3da7735",
      "metadata": {
        "id": "c52e6ca6-872e-482d-a909-677bd3da7735"
      },
      "outputs": [],
      "source": [
        "import pickle\n",
        "with open('ipl_score_predictor_rf.pkl', 'wb') as f:\n",
        "    pickle.dump(model_pipeline, f)"
      ]
    },
    {
      "cell_type": "code",
      "execution_count": 73,
      "id": "d4c4dbf7-a7ea-461d-ab32-82f4fdbc04b0",
      "metadata": {
        "colab": {
          "base_uri": "https://localhost:8080/"
        },
        "id": "d4c4dbf7-a7ea-461d-ab32-82f4fdbc04b0",
        "outputId": "57c7a31f-41d9-4198-abd0-961ff1d989fe"
      },
      "outputs": [
        {
          "output_type": "stream",
          "name": "stdout",
          "text": [
            "\n",
            "RandomForest model saved as 'ipl_score_predictor_rf.pkl'\n"
          ]
        }
      ],
      "source": [
        "print(\"\\nRandomForest model saved as 'ipl_score_predictor_rf.pkl'\")\n"
      ]
    },
    {
      "cell_type": "code",
      "execution_count": 74,
      "id": "b58a8f78-7e79-4a90-b245-6abd970eb42a",
      "metadata": {
        "id": "b58a8f78-7e79-4a90-b245-6abd970eb42a"
      },
      "outputs": [],
      "source": [
        "def predict_score(venue, batting_team, bowling_team, runs, wickets, overs, runs_last_5, wickets_last_5):\n",
        "    \"\"\"\n",
        "    Predicts the final score using the trained model.\n",
        "    \"\"\"\n",
        "    # Create a DataFrame from the input\n",
        "    input_data = pd.DataFrame({\n",
        "        'venue': [venue],\n",
        "        'batting_team': [batting_team],\n",
        "        'bowling_team': [bowling_team],\n",
        "        'runs': [runs],\n",
        "        'wickets': [wickets],\n",
        "        'overs': [overs],\n",
        "        'runs_last_5': [runs_last_5],\n",
        "        'wickets_last_5': [wickets_last_5]\n",
        "    })\n",
        "    predicted_score = model_pipeline.predict(input_data)[0]\n",
        "\n",
        "    return int(predicted_score)"
      ]
    },
    {
      "cell_type": "code",
      "execution_count": 75,
      "id": "a3af71ca-752b-436f-8902-ded9d9130d70",
      "metadata": {
        "colab": {
          "base_uri": "https://localhost:8080/"
        },
        "id": "a3af71ca-752b-436f-8902-ded9d9130d70",
        "outputId": "5ea73645-d9fd-4ee0-9650-13228f2c91e9"
      },
      "outputs": [
        {
          "output_type": "stream",
          "name": "stdout",
          "text": [
            "\n",
            "--- Example Prediction ---\n",
            "Predicted Final Score for the example scenario: 170\n",
            "--------------------------\n"
          ]
        }
      ],
      "source": [
        "# Example Prediction\n",
        "print(\"\\n--- Example Prediction ---\")\n",
        "example_venue = 'M Chinnaswamy Stadium'\n",
        "example_batting_team = 'Royal Challengers Bangalore'\n",
        "example_bowling_team = 'Mumbai Indians'\n",
        "example_runs = 85\n",
        "example_wickets = 2\n",
        "example_overs = 10.2\n",
        "example_runs_last_5 = 45\n",
        "example_wickets_last_5 = 1\n",
        "\n",
        "predicted_total = predict_score(\n",
        "    example_venue, example_batting_team, example_bowling_team,\n",
        "    example_runs, example_wickets, example_overs,\n",
        "    example_runs_last_5, example_wickets_last_5\n",
        ")\n",
        "\n",
        "print(f\"Predicted Final Score for the example scenario: {predicted_total}\")\n",
        "print(\"--------------------------\")"
      ]
    },
    {
      "cell_type": "code",
      "execution_count": null,
      "id": "e19d4835-b9cf-40c9-90c5-75d2494833e9",
      "metadata": {
        "id": "e19d4835-b9cf-40c9-90c5-75d2494833e9"
      },
      "outputs": [],
      "source": []
    }
  ],
  "metadata": {
    "kernelspec": {
      "display_name": "Python 3 (ipykernel)",
      "language": "python",
      "name": "python3"
    },
    "language_info": {
      "codemirror_mode": {
        "name": "ipython",
        "version": 3
      },
      "file_extension": ".py",
      "mimetype": "text/x-python",
      "name": "python",
      "nbconvert_exporter": "python",
      "pygments_lexer": "ipython3",
      "version": "3.12.7"
    },
    "colab": {
      "provenance": [],
      "include_colab_link": true
    }
  },
  "nbformat": 4,
  "nbformat_minor": 5
}